{
 "cells": [
  {
   "cell_type": "code",
   "execution_count": 1,
   "metadata": {
    "collapsed": true
   },
   "outputs": [],
   "source": [
    "import pandas as pd\n",
    "import numpy as np\n",
    "import gc\n",
    "import utils\n",
    "import dataset\n",
    "import seaborn as sns\n",
    "import matplotlib.pyplot as plt\n",
    "import analysis"
   ]
  },
  {
   "cell_type": "code",
   "execution_count": 2,
   "metadata": {},
   "outputs": [
    {
     "name": "stdout",
     "output_type": "stream",
     "text": [
      "load data from ../input/application_train.csv - done in 3s\n"
     ]
    }
   ],
   "source": [
    "app_train = dataset.get_data('../input/application_train.csv')"
   ]
  },
  {
   "cell_type": "code",
   "execution_count": 3,
   "metadata": {
    "collapsed": true
   },
   "outputs": [],
   "source": [
    "binary_features = [\n",
    "    'FLAG_OWN_CAR',\n",
    "    'FLAG_OWN_REALTY',\n",
    "    \n",
    "    'FLAG_DOCUMENT_2',\n",
    "    'FLAG_DOCUMENT_3',\n",
    "    'FLAG_DOCUMENT_4',\n",
    "    'FLAG_DOCUMENT_5',\n",
    "    'FLAG_DOCUMENT_6',\n",
    "    'FLAG_DOCUMENT_7',\n",
    "    'FLAG_DOCUMENT_8',\n",
    "    'FLAG_DOCUMENT_9',\n",
    "    'FLAG_DOCUMENT_10',\n",
    "    'FLAG_DOCUMENT_11',\n",
    "    'FLAG_DOCUMENT_12',\n",
    "    'FLAG_DOCUMENT_13',\n",
    "    'FLAG_DOCUMENT_14',\n",
    "    'FLAG_DOCUMENT_15',\n",
    "    'FLAG_DOCUMENT_16',\n",
    "    'FLAG_DOCUMENT_17',\n",
    "    'FLAG_DOCUMENT_18',\n",
    "    'FLAG_DOCUMENT_19',\n",
    "    'FLAG_DOCUMENT_20',\n",
    "    'FLAG_DOCUMENT_21',\n",
    "    'REG_REGION_NOT_LIVE_REGION',\n",
    "    'REG_REGION_NOT_WORK_REGION',\n",
    "    'LIVE_REGION_NOT_WORK_REGION',\n",
    "    'REG_CITY_NOT_LIVE_CITY',\n",
    "    'REG_CITY_NOT_WORK_CITY',\n",
    "    'LIVE_CITY_NOT_WORK_CITY',\n",
    "    'FLAG_MOBIL',\n",
    "    'FLAG_EMP_PHONE',\n",
    "    'FLAG_WORK_PHONE',\n",
    "    'FLAG_CONT_MOBILE',\n",
    "    'FLAG_PHONE',\n",
    "    'FLAG_EMAIL',\n",
    "    'CODE_GENDER',\n",
    "    'EMERGENCYSTATE_MODE'\n",
    "]"
   ]
  },
  {
   "cell_type": "code",
   "execution_count": 4,
   "metadata": {
    "collapsed": true
   },
   "outputs": [],
   "source": [
    "category_features = [\n",
    "    'NAME_CONTRACT_TYPE',\n",
    "    'NAME_EDUCATION_TYPE',\n",
    "    'NAME_FAMILY_STATUS',\n",
    "    'NAME_HOUSING_TYPE',\n",
    "    'ORGANIZATION_TYPE',\n",
    "    'WEEKDAY_APPR_PROCESS_START',\n",
    "    'NAME_TYPE_SUITE',\n",
    "    'NAME_INCOME_TYPE',\n",
    "    'OCCUPATION_TYPE',\n",
    "    'FONDKAPREMONT_MODE',\n",
    "    'HOUSETYPE_MODE',\n",
    "    'WALLSMATERIAL_MODE'\n",
    "]"
   ]
  },
  {
   "cell_type": "code",
   "execution_count": 5,
   "metadata": {
    "collapsed": true
   },
   "outputs": [],
   "source": [
    "numerical_features = [_ for _ in app_train.columns if app_train[_].dtype == 'float64']\n",
    "numerical_features = numerical_features + [\n",
    "    'CNT_CHILDREN',\n",
    "    'DAYS_BIRTH',\n",
    "    'DAYS_EMPLOYED',\n",
    "    'DAYS_ID_PUBLISH',\n",
    "    'REGION_RATING_CLIENT_W_CITY',\n",
    "    'REGION_RATING_CLIENT',\n",
    "    'HOUR_APPR_PROCESS_START',\n",
    "]"
   ]
  },
  {
   "cell_type": "markdown",
   "metadata": {
    "collapsed": true
   },
   "source": [
    "## 自动分析报告"
   ]
  },
  {
   "cell_type": "code",
   "execution_count": 6,
   "metadata": {
    "scrolled": true
   },
   "outputs": [
    {
     "name": "stderr",
     "output_type": "stream",
     "text": [
      "C:\\SoftWare\\Miniconda3\\lib\\site-packages\\matplotlib\\figure.py:1742: UserWarning: This figure includes Axes that are not compatible with tight_layout, so its results might be incorrect.\n",
      "  warnings.warn(\"This figure includes Axes that are not \"\n"
     ]
    },
    {
     "name": "stdout",
     "output_type": "stream",
     "text": [
      "Process AMT_INCOME_TOTAL - done in 4s\n",
      "Process AMT_CREDIT - done in 3s\n",
      "Process AMT_ANNUITY - done in 4s\n",
      "Process AMT_GOODS_PRICE - done in 3s\n",
      "Process REGION_POPULATION_RELATIVE - done in 3s\n",
      "Process DAYS_REGISTRATION - done in 3s\n",
      "Process OWN_CAR_AGE - done in 1s\n",
      "Process CNT_FAM_MEMBERS - done in 4s\n",
      "Process EXT_SOURCE_1 - done in 1s\n",
      "Process EXT_SOURCE_2 - done in 3s\n",
      "Process EXT_SOURCE_3 - done in 2s\n",
      "Process APARTMENTS_AVG - done in 2s\n",
      "Process BASEMENTAREA_AVG - done in 1s\n",
      "Process YEARS_BEGINEXPLUATATION_AVG - done in 2s\n",
      "Process YEARS_BUILD_AVG - done in 1s\n",
      "Process COMMONAREA_AVG - done in 1s\n",
      "Process ELEVATORS_AVG - done in 2s\n",
      "Process ENTRANCES_AVG - done in 2s\n",
      "Process FLOORSMAX_AVG - done in 2s\n"
     ]
    },
    {
     "name": "stderr",
     "output_type": "stream",
     "text": [
      "C:\\SoftWare\\Miniconda3\\lib\\site-packages\\matplotlib\\pyplot.py:524: RuntimeWarning: More than 20 figures have been opened. Figures created through the pyplot interface (`matplotlib.pyplot.figure`) are retained until explicitly closed and may consume too much memory. (To control this warning, see the rcParam `figure.max_open_warning`).\n",
      "  max_open_warning, RuntimeWarning)\n"
     ]
    },
    {
     "name": "stdout",
     "output_type": "stream",
     "text": [
      "Process FLOORSMIN_AVG - done in 1s\n",
      "Process LANDAREA_AVG - done in 1s\n",
      "Process LIVINGAPARTMENTS_AVG - done in 1s\n",
      "Process LIVINGAREA_AVG - done in 2s\n",
      "Process NONLIVINGAPARTMENTS_AVG - done in 1s\n",
      "Process NONLIVINGAREA_AVG - done in 2s\n",
      "Process APARTMENTS_MODE - done in 2s\n",
      "Process BASEMENTAREA_MODE - done in 1s\n",
      "Process YEARS_BEGINEXPLUATATION_MODE - done in 2s\n",
      "Process YEARS_BUILD_MODE - done in 1s\n",
      "Process COMMONAREA_MODE - done in 1s\n",
      "Process ELEVATORS_MODE - done in 2s\n",
      "Process ENTRANCES_MODE - done in 2s\n",
      "Process FLOORSMAX_MODE - done in 2s\n",
      "Process FLOORSMIN_MODE - done in 1s\n",
      "Process LANDAREA_MODE - done in 1s\n",
      "Process LIVINGAPARTMENTS_MODE - done in 1s\n",
      "Process LIVINGAREA_MODE - done in 2s\n",
      "Process NONLIVINGAPARTMENTS_MODE - done in 1s\n",
      "Process NONLIVINGAREA_MODE - done in 2s\n",
      "Process APARTMENTS_MEDI - done in 2s\n",
      "Process BASEMENTAREA_MEDI - done in 1s\n",
      "Process YEARS_BEGINEXPLUATATION_MEDI - done in 2s\n",
      "Process YEARS_BUILD_MEDI - done in 1s\n",
      "Process COMMONAREA_MEDI - done in 1s\n",
      "Process ELEVATORS_MEDI - done in 2s\n",
      "Process ENTRANCES_MEDI - done in 2s\n",
      "Process FLOORSMAX_MEDI - done in 2s\n",
      "Process FLOORSMIN_MEDI - done in 1s\n",
      "Process LANDAREA_MEDI - done in 1s\n",
      "Process LIVINGAPARTMENTS_MEDI - done in 1s\n",
      "Process LIVINGAREA_MEDI - done in 2s\n",
      "Process NONLIVINGAPARTMENTS_MEDI - done in 1s\n",
      "Process NONLIVINGAREA_MEDI - done in 2s\n",
      "Process TOTALAREA_MODE - done in 2s\n",
      "Process OBS_30_CNT_SOCIAL_CIRCLE - done in 4s\n",
      "Process DEF_30_CNT_SOCIAL_CIRCLE - done in 4s\n",
      "Process OBS_60_CNT_SOCIAL_CIRCLE - done in 4s\n",
      "Process DEF_60_CNT_SOCIAL_CIRCLE - done in 4s\n",
      "Process DAYS_LAST_PHONE_CHANGE - done in 3s\n",
      "Process AMT_REQ_CREDIT_BUREAU_HOUR - done in 4s\n",
      "Process AMT_REQ_CREDIT_BUREAU_DAY - done in 4s\n",
      "Process AMT_REQ_CREDIT_BUREAU_WEEK - done in 4s\n",
      "Process AMT_REQ_CREDIT_BUREAU_MON - done in 3s\n",
      "Process AMT_REQ_CREDIT_BUREAU_QRT - done in 4s\n",
      "Process AMT_REQ_CREDIT_BUREAU_YEAR - done in 3s\n",
      "Process CNT_CHILDREN - done in 4s\n",
      "Process DAYS_BIRTH - done in 2s\n",
      "Process DAYS_EMPLOYED - done in 2s\n",
      "Process DAYS_ID_PUBLISH - done in 2s\n",
      "Process REGION_RATING_CLIENT_W_CITY - done in 2s\n",
      "Process REGION_RATING_CLIENT - done in 2s\n",
      "Process HOUR_APPR_PROCESS_START - done in 3s\n",
      "Process NAME_CONTRACT_TYPE - done in 1s\n",
      "Process NAME_EDUCATION_TYPE - done in 1s\n",
      "Process NAME_FAMILY_STATUS - done in 1s\n",
      "Process NAME_HOUSING_TYPE - done in 1s\n",
      "Process ORGANIZATION_TYPE - done in 2s\n",
      "Process WEEKDAY_APPR_PROCESS_START - done in 1s\n",
      "Process NAME_TYPE_SUITE - done in 1s\n",
      "Process NAME_INCOME_TYPE - done in 1s\n",
      "Process OCCUPATION_TYPE - done in 2s\n",
      "Process FONDKAPREMONT_MODE - done in 1s\n",
      "Process HOUSETYPE_MODE - done in 1s\n",
      "Process WALLSMATERIAL_MODE - done in 1s\n",
      "Process FLAG_OWN_CAR - done in 1s\n",
      "Process FLAG_OWN_REALTY - done in 1s\n",
      "Process FLAG_DOCUMENT_2 - done in 1s\n",
      "Process FLAG_DOCUMENT_3 - done in 1s\n",
      "Process FLAG_DOCUMENT_4 - done in 1s\n",
      "Process FLAG_DOCUMENT_5 - done in 1s\n",
      "Process FLAG_DOCUMENT_6 - done in 1s\n",
      "Process FLAG_DOCUMENT_7 - done in 1s\n",
      "Process FLAG_DOCUMENT_8 - done in 1s\n",
      "Process FLAG_DOCUMENT_9 - done in 1s\n",
      "Process FLAG_DOCUMENT_10 - done in 1s\n",
      "Process FLAG_DOCUMENT_11 - done in 1s\n",
      "Process FLAG_DOCUMENT_12 - done in 1s\n",
      "Process FLAG_DOCUMENT_13 - done in 1s\n",
      "Process FLAG_DOCUMENT_14 - done in 1s\n",
      "Process FLAG_DOCUMENT_15 - done in 1s\n",
      "Process FLAG_DOCUMENT_16 - done in 1s\n",
      "Process FLAG_DOCUMENT_17 - done in 1s\n",
      "Process FLAG_DOCUMENT_18 - done in 1s\n",
      "Process FLAG_DOCUMENT_19 - done in 1s\n",
      "Process FLAG_DOCUMENT_20 - done in 1s\n",
      "Process FLAG_DOCUMENT_21 - done in 1s\n",
      "Process REG_REGION_NOT_LIVE_REGION - done in 1s\n",
      "Process REG_REGION_NOT_WORK_REGION - done in 1s\n",
      "Process LIVE_REGION_NOT_WORK_REGION - done in 1s\n",
      "Process REG_CITY_NOT_LIVE_CITY - done in 1s\n",
      "Process REG_CITY_NOT_WORK_CITY - done in 1s\n",
      "Process LIVE_CITY_NOT_WORK_CITY - done in 1s\n",
      "Process FLAG_MOBIL - done in 1s\n",
      "Process FLAG_EMP_PHONE - done in 1s\n",
      "Process FLAG_WORK_PHONE - done in 1s\n",
      "Process FLAG_CONT_MOBILE - done in 1s\n",
      "Process FLAG_PHONE - done in 1s\n",
      "Process FLAG_EMAIL - done in 1s\n",
      "Process CODE_GENDER - done in 1s\n",
      "Process EMERGENCYSTATE_MODE - done in 1s\n",
      "Single variable explorer - done in 222s\n"
     ]
    }
   ],
   "source": [
    "analysis.generate_report(app_train, 'test.md', './pic', numerical_features, category_features + binary_features)"
   ]
  },
  {
   "cell_type": "code",
   "execution_count": null,
   "metadata": {
    "collapsed": true
   },
   "outputs": [],
   "source": []
  }
 ],
 "metadata": {
  "kernelspec": {
   "display_name": "Python 3",
   "language": "python",
   "name": "python3"
  },
  "language_info": {
   "codemirror_mode": {
    "name": "ipython",
    "version": 3
   },
   "file_extension": ".py",
   "mimetype": "text/x-python",
   "name": "python",
   "nbconvert_exporter": "python",
   "pygments_lexer": "ipython3",
   "version": "3.6.0"
  }
 },
 "nbformat": 4,
 "nbformat_minor": 2
}
