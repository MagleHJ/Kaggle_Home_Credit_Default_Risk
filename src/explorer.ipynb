{
 "cells": [
  {
   "cell_type": "markdown",
   "metadata": {},
   "source": [
    "# Baseline"
   ]
  },
  {
   "cell_type": "code",
   "execution_count": 21,
   "metadata": {
    "collapsed": true
   },
   "outputs": [],
   "source": [
    "import numpy as np\n",
    "import pandas as pd\n",
    "import matplotlib.pyplot as plt\n",
    "import seaborn as sns\n",
    "import time\n",
    "import gc\n",
    "from contextlib import contextmanager\n",
    "import warnings\n",
    "warnings.simplefilter(action='ignore', category=FutureWarning)"
   ]
  },
  {
   "cell_type": "markdown",
   "metadata": {},
   "source": [
    "## 计时器"
   ]
  },
  {
   "cell_type": "code",
   "execution_count": 3,
   "metadata": {
    "collapsed": true
   },
   "outputs": [],
   "source": [
    "@contextmanager\n",
    "def timer(title):\n",
    "    t0 = time.time()\n",
    "    yield\n",
    "    print(\"{} - done in {:.0f}s\".format(title, time.time() - t0))"
   ]
  },
  {
   "cell_type": "markdown",
   "metadata": {},
   "source": [
    "## One-hot函数"
   ]
  },
  {
   "cell_type": "code",
   "execution_count": 55,
   "metadata": {
    "collapsed": true
   },
   "outputs": [],
   "source": [
    "def one_hot_encoder(df, nan_as_category = True):\n",
    "    original_columns = list(df.columns)\n",
    "    categorical_columns = [col for col in df.columns if df[col].dtype == 'object']\n",
    "    df = pd.get_dummies(df, columns= categorical_columns, dummy_na= nan_as_category)\n",
    "    new_columns = [c for c in df.columns if c not in original_columns]\n",
    "    return df, new_columns"
   ]
  },
  {
   "cell_type": "markdown",
   "metadata": {},
   "source": [
    "## 加载数据集"
   ]
  },
  {
   "cell_type": "code",
   "execution_count": 53,
   "metadata": {
    "collapsed": true
   },
   "outputs": [],
   "source": [
    "def application(num_rows = None, nan_as_category = True):\n",
    "    # Read data and merge\n",
    "    df = pd.read_csv('../input/application_train.csv', nrows= num_rows)\n",
    "    test_df = pd.read_csv('../input/application_test.csv', nrows= num_rows)\n",
    "    print(\"Train samples: {}, test samples: {}\".format(len(df), len(test_df)))\n",
    "    df = df.append(test_df).reset_index()\n",
    "    \n",
    "    # NaN values for DAYS_EMPLOYED: 365,243 -> nan\n",
    "    df['DAYS_EMPLOYED'].replace(365243, np.nan, inplace= True)\n",
    "    \n",
    "    # Categorical features: Binary features and One-Hot encoding\n",
    "    for bin_feature in ['CODE_GENDER', 'FLAG_OWN_CAR', 'FLAG_OWN_REALTY']:\n",
    "        df[bin_feature], uniques = pd.factorize(df[bin_feature])\n",
    "    \n",
    "    df, cat_cols = one_hot_encoder(df, nan_as_category)\n",
    "    \n",
    "    del test_df\n",
    "    gc.collect()\n",
    "    return df"
   ]
  },
  {
   "cell_type": "markdown",
   "metadata": {},
   "source": [
    "## 主函数"
   ]
  },
  {
   "cell_type": "code",
   "execution_count": 54,
   "metadata": {
    "collapsed": true
   },
   "outputs": [],
   "source": [
    "def load_data(debug=False):\n",
    "    num_rows = 10000 if debug else None\n",
    "    df = pd.DataFrame()\n",
    "    with timer('Process application'):\n",
    "        df = application(num_rows)\n",
    "    return df"
   ]
  },
  {
   "cell_type": "code",
   "execution_count": 59,
   "metadata": {
    "collapsed": true
   },
   "outputs": [],
   "source": [
    "# Display/plot feature importance\n",
    "def display_importances(feature_importance_df_):\n",
    "    cols = feature_importance_df_[[\"feature\", \"importance\"]].groupby(\"feature\").mean().sort_values(by=\"importance\", ascending=False)[:40].index\n",
    "    best_features = feature_importance_df_.loc[feature_importance_df_.feature.isin(cols)]\n",
    "    plt.figure(figsize=(8, 10))\n",
    "    sns.barplot(x=\"importance\", y=\"feature\", data=best_features.sort_values(by=\"importance\", ascending=False))\n",
    "    plt.title('LightGBM Features (avg over folds)')\n",
    "    plt.tight_layout()\n",
    "    plt.savefig('lgbm_importances-01.png')"
   ]
  },
  {
   "cell_type": "code",
   "execution_count": 65,
   "metadata": {
    "collapsed": true
   },
   "outputs": [],
   "source": [
    "from lightgbm import LGBMClassifier\n",
    "from sklearn.model_selection import KFold, StratifiedKFold\n",
    "from sklearn.metrics import roc_auc_score, roc_curve\n",
    "# LightGBM GBDT with KFold or Stratified KFold\n",
    "# Parameters from Tilii kernel: https://www.kaggle.com/tilii7/olivier-lightgbm-parameters-by-bayesian-opt/code\n",
    "def kfold_lightgbm(df, num_folds, stratified = False):\n",
    "    # Divide in training/validation and test data\n",
    "    train_df = df[df['TARGET'].notnull()]\n",
    "    test_df = df[df['TARGET'].isnull()]\n",
    "    print(\"Starting LightGBM. Train shape: {}, test shape: {}\".format(train_df.shape, test_df.shape))\n",
    "    del df\n",
    "    gc.collect()\n",
    "    # Cross validation model\n",
    "    if stratified:\n",
    "        folds = StratifiedKFold(n_splits= num_folds, shuffle=True, random_state=1001)\n",
    "    else:\n",
    "        folds = KFold(n_splits= num_folds, shuffle=True, random_state=1001)\n",
    "    # Create arrays and dataframes to store results\n",
    "    oof_preds = np.zeros(train_df.shape[0])\n",
    "    sub_preds = np.zeros(test_df.shape[0])\n",
    "    feature_importance_df = pd.DataFrame()\n",
    "    feats = [f for f in train_df.columns if f not in ['TARGET','SK_ID_CURR','SK_ID_BUREAU','SK_ID_PREV']]\n",
    "    \n",
    "    for n_fold, (train_idx, valid_idx) in enumerate(folds.split(train_df[feats], train_df['TARGET'])):\n",
    "        train_x, train_y = train_df[feats].iloc[train_idx], train_df['TARGET'].iloc[train_idx]\n",
    "        valid_x, valid_y = train_df[feats].iloc[valid_idx], train_df['TARGET'].iloc[valid_idx]\n",
    "\n",
    "        # LightGBM parameters found by Bayesian optimization\n",
    "        clf = LGBMClassifier(\n",
    "            nthread=4,\n",
    "            n_estimators=10000,\n",
    "            learning_rate=0.02,\n",
    "            num_leaves=34,\n",
    "            colsample_bytree=0.9497036,\n",
    "            subsample=0.8715623,\n",
    "            max_depth=8,\n",
    "            reg_alpha=0.041545473,\n",
    "            reg_lambda=0.0735294,\n",
    "            min_split_gain=0.0222415,\n",
    "            min_child_weight=39.3259775,\n",
    "            silent=-1,\n",
    "            verbose=-1, )\n",
    "\n",
    "        clf.fit(train_x, train_y, eval_set=[(train_x, train_y), (valid_x, valid_y)], \n",
    "            eval_metric= 'auc', verbose= 100, early_stopping_rounds= 100)\n",
    "\n",
    "        oof_preds[valid_idx] = clf.predict_proba(valid_x, num_iteration=clf.best_iteration_)[:, 1]\n",
    "        sub_preds += clf.predict_proba(test_df[feats], num_iteration=clf.best_iteration_)[:, 1] / folds.n_splits\n",
    "\n",
    "        fold_importance_df = pd.DataFrame()\n",
    "        fold_importance_df[\"feature\"] = feats\n",
    "        fold_importance_df[\"importance\"] = clf.feature_importances_\n",
    "        fold_importance_df[\"fold\"] = n_fold + 1\n",
    "        feature_importance_df = pd.concat([feature_importance_df, fold_importance_df], axis=0)\n",
    "        print('Fold %2d AUC : %.6f' % (n_fold + 1, roc_auc_score(valid_y, oof_preds[valid_idx])))\n",
    "        del clf, train_x, train_y, valid_x, valid_y\n",
    "        gc.collect()\n",
    "\n",
    "    print('Full AUC score %.6f' % roc_auc_score(train_df['TARGET'], oof_preds))\n",
    "    # Write submission file and plot feature importance\n",
    "    test_df['TARGET'] = sub_preds\n",
    "    test_df[['SK_ID_CURR', 'TARGET']].to_csv(submission_file_name, index= False)\n",
    "    display_importances(feature_importance_df)\n",
    "    return feature_importance_df"
   ]
  },
  {
   "cell_type": "code",
   "execution_count": 66,
   "metadata": {
    "collapsed": true
   },
   "outputs": [],
   "source": [
    "def main(debug = False):\n",
    "    df = load_data(debug)\n",
    "    with timer(\"Run LightGBM with kfold\"):\n",
    "        feat_importance = kfold_lightgbm(df, num_folds= 5, stratified = False)"
   ]
  },
  {
   "cell_type": "code",
   "execution_count": 69,
   "metadata": {},
   "outputs": [
    {
     "name": "stdout",
     "output_type": "stream",
     "text": [
      "Train samples: 307511, test samples: 48744\n",
      "Process application - done in 6s\n",
      "Starting LightGBM. Train shape: (307511, 256), test shape: (48744, 256)\n",
      "Training until validation scores don't improve for 100 rounds.\n",
      "[100]\ttraining's auc: 0.74147\tvalid_1's auc: 0.737271\n",
      "[200]\ttraining's auc: 0.759456\tvalid_1's auc: 0.749965\n",
      "[300]\ttraining's auc: 0.773181\tvalid_1's auc: 0.757651\n",
      "[400]\ttraining's auc: 0.782262\tvalid_1's auc: 0.760786\n",
      "[500]\ttraining's auc: 0.789345\tvalid_1's auc: 0.762389\n",
      "[600]\ttraining's auc: 0.795606\tvalid_1's auc: 0.763325\n",
      "[700]\ttraining's auc: 0.801502\tvalid_1's auc: 0.763842\n",
      "[800]\ttraining's auc: 0.807002\tvalid_1's auc: 0.763968\n",
      "[900]\ttraining's auc: 0.812466\tvalid_1's auc: 0.764259\n",
      "[1000]\ttraining's auc: 0.816849\tvalid_1's auc: 0.7645\n",
      "[1100]\ttraining's auc: 0.821385\tvalid_1's auc: 0.76478\n",
      "[1200]\ttraining's auc: 0.825956\tvalid_1's auc: 0.764708\n",
      "Early stopping, best iteration is:\n",
      "[1102]\ttraining's auc: 0.821469\tvalid_1's auc: 0.764784\n",
      "Fold  1 AUC : 0.764784\n",
      "Training until validation scores don't improve for 100 rounds.\n",
      "[100]\ttraining's auc: 0.741829\tvalid_1's auc: 0.734515\n",
      "[200]\ttraining's auc: 0.759778\tvalid_1's auc: 0.748846\n",
      "[300]\ttraining's auc: 0.7732\tvalid_1's auc: 0.75662\n",
      "[400]\ttraining's auc: 0.782131\tvalid_1's auc: 0.760019\n",
      "[500]\ttraining's auc: 0.789017\tvalid_1's auc: 0.761501\n",
      "[600]\ttraining's auc: 0.795553\tvalid_1's auc: 0.762588\n",
      "[700]\ttraining's auc: 0.801069\tvalid_1's auc: 0.763066\n",
      "[800]\ttraining's auc: 0.806897\tvalid_1's auc: 0.763503\n",
      "[900]\ttraining's auc: 0.812106\tvalid_1's auc: 0.7635\n",
      "Early stopping, best iteration is:\n",
      "[816]\ttraining's auc: 0.807741\tvalid_1's auc: 0.763573\n",
      "Fold  2 AUC : 0.763573\n",
      "Training until validation scores don't improve for 100 rounds.\n",
      "[100]\ttraining's auc: 0.742867\tvalid_1's auc: 0.727236\n",
      "[200]\ttraining's auc: 0.760762\tvalid_1's auc: 0.740801\n",
      "[300]\ttraining's auc: 0.774475\tvalid_1's auc: 0.748859\n",
      "[400]\ttraining's auc: 0.783077\tvalid_1's auc: 0.752102\n",
      "[500]\ttraining's auc: 0.790342\tvalid_1's auc: 0.754011\n",
      "[600]\ttraining's auc: 0.796783\tvalid_1's auc: 0.755082\n",
      "[700]\ttraining's auc: 0.802834\tvalid_1's auc: 0.755661\n",
      "[800]\ttraining's auc: 0.80846\tvalid_1's auc: 0.756261\n",
      "[900]\ttraining's auc: 0.81372\tvalid_1's auc: 0.756627\n",
      "[1000]\ttraining's auc: 0.818457\tvalid_1's auc: 0.756881\n",
      "[1100]\ttraining's auc: 0.823177\tvalid_1's auc: 0.757005\n",
      "[1200]\ttraining's auc: 0.827678\tvalid_1's auc: 0.757081\n",
      "[1300]\ttraining's auc: 0.831819\tvalid_1's auc: 0.757037\n",
      "Early stopping, best iteration is:\n",
      "[1220]\ttraining's auc: 0.828406\tvalid_1's auc: 0.757178\n",
      "Fold  3 AUC : 0.757178\n",
      "Training until validation scores don't improve for 100 rounds.\n",
      "[100]\ttraining's auc: 0.742371\tvalid_1's auc: 0.732921\n",
      "[200]\ttraining's auc: 0.760044\tvalid_1's auc: 0.745609\n",
      "[300]\ttraining's auc: 0.773833\tvalid_1's auc: 0.753654\n",
      "[400]\ttraining's auc: 0.782521\tvalid_1's auc: 0.756756\n",
      "[500]\ttraining's auc: 0.789549\tvalid_1's auc: 0.758026\n",
      "[600]\ttraining's auc: 0.796223\tvalid_1's auc: 0.759161\n",
      "[700]\ttraining's auc: 0.801968\tvalid_1's auc: 0.759696\n",
      "[800]\ttraining's auc: 0.807448\tvalid_1's auc: 0.760004\n",
      "[900]\ttraining's auc: 0.812559\tvalid_1's auc: 0.760122\n",
      "[1000]\ttraining's auc: 0.817793\tvalid_1's auc: 0.760278\n",
      "[1100]\ttraining's auc: 0.822649\tvalid_1's auc: 0.760277\n",
      "Early stopping, best iteration is:\n",
      "[1020]\ttraining's auc: 0.818793\tvalid_1's auc: 0.760364\n",
      "Fold  4 AUC : 0.760364\n",
      "Training until validation scores don't improve for 100 rounds.\n",
      "[100]\ttraining's auc: 0.741383\tvalid_1's auc: 0.736863\n",
      "[200]\ttraining's auc: 0.759189\tvalid_1's auc: 0.749484\n",
      "[300]\ttraining's auc: 0.772561\tvalid_1's auc: 0.756922\n",
      "[400]\ttraining's auc: 0.781365\tvalid_1's auc: 0.759886\n",
      "[500]\ttraining's auc: 0.788258\tvalid_1's auc: 0.761317\n",
      "[600]\ttraining's auc: 0.794639\tvalid_1's auc: 0.762206\n",
      "[700]\ttraining's auc: 0.800276\tvalid_1's auc: 0.762645\n",
      "[800]\ttraining's auc: 0.805715\tvalid_1's auc: 0.762818\n",
      "[900]\ttraining's auc: 0.810794\tvalid_1's auc: 0.762874\n",
      "[1000]\ttraining's auc: 0.815819\tvalid_1's auc: 0.763146\n",
      "Early stopping, best iteration is:\n",
      "[975]\ttraining's auc: 0.814575\tvalid_1's auc: 0.763231\n",
      "Fold  5 AUC : 0.763231\n",
      "Full AUC score 0.761810\n"
     ]
    },
    {
     "name": "stderr",
     "output_type": "stream",
     "text": [
      "C:\\SoftWare\\Miniconda3\\lib\\site-packages\\ipykernel_launcher.py:61: SettingWithCopyWarning: \n",
      "A value is trying to be set on a copy of a slice from a DataFrame.\n",
      "Try using .loc[row_indexer,col_indexer] = value instead\n",
      "\n",
      "See the caveats in the documentation: http://pandas.pydata.org/pandas-docs/stable/indexing.html#indexing-view-versus-copy\n"
     ]
    },
    {
     "name": "stdout",
     "output_type": "stream",
     "text": [
      "Run LightGBM with kfold - done in 393s\n"
     ]
    }
   ],
   "source": [
    "submission_file_name = \"baseline.csv\"\n",
    "df = main()"
   ]
  },
  {
   "cell_type": "code",
   "execution_count": null,
   "metadata": {
    "collapsed": true
   },
   "outputs": [],
   "source": []
  }
 ],
 "metadata": {
  "kernelspec": {
   "display_name": "Python 3",
   "language": "python",
   "name": "python3"
  },
  "language_info": {
   "codemirror_mode": {
    "name": "ipython",
    "version": 3
   },
   "file_extension": ".py",
   "mimetype": "text/x-python",
   "name": "python",
   "nbconvert_exporter": "python",
   "pygments_lexer": "ipython3",
   "version": "3.6.0"
  }
 },
 "nbformat": 4,
 "nbformat_minor": 2
}
